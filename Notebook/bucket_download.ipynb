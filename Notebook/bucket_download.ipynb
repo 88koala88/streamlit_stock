{
 "cells": [
  {
   "cell_type": "code",
   "execution_count": 33,
   "id": "70dbdb32",
   "metadata": {},
   "outputs": [],
   "source": [
    "import glob\n",
    "from google.cloud import bigquery\n",
    "from google.oauth2 import service_account\n",
    "from google.cloud import storage\n",
    "import pandas as pd\n",
    "import db_dtypes     "
   ]
  },
  {
   "cell_type": "code",
   "execution_count": 34,
   "id": "d790f4c2",
   "metadata": {},
   "outputs": [],
   "source": [
    "key_path = glob.glob(\"*.json\")[0]   # glob.glob(\"*.json\") json 확장자 다 가져옴\n",
    "credentials = service_account.Credentials.from_service_account_file(key_path)"
   ]
  },
  {
   "cell_type": "code",
   "execution_count": 35,
   "id": "8c57e1d8",
   "metadata": {},
   "outputs": [],
   "source": [
    "storage_client = storage.Client(credentials = credentials, \n",
    "                         project = credentials.project_id)"
   ]
  },
  {
   "cell_type": "code",
   "execution_count": 36,
   "id": "081da426",
   "metadata": {},
   "outputs": [],
   "source": [
    "bucket_name = 'data1-study1'  \n",
    "source_blob_name = 'data_crawler/kor_ticker_list.csv'   \n",
    "destination_file_name = 'kor_ticker_list.csv'   "
   ]
  },
  {
   "cell_type": "code",
   "execution_count": 37,
   "id": "32e8efdc",
   "metadata": {},
   "outputs": [],
   "source": [
    "bucket = storage_client.bucket(bucket_name)\n",
    "blob = bucket.blob(source_blob_name) \n",
    "blob.download_to_filename(destination_file_name) "
   ]
  },
  {
   "cell_type": "code",
   "execution_count": 38,
   "id": "2ed0c295",
   "metadata": {},
   "outputs": [],
   "source": [
    "df = pd.read_csv('kor_ticker_list.csv')"
   ]
  }
 ],
 "metadata": {
  "kernelspec": {
   "display_name": "Python 3 (ipykernel)",
   "language": "python",
   "name": "python3"
  },
  "language_info": {
   "codemirror_mode": {
    "name": "ipython",
    "version": 3
   },
   "file_extension": ".py",
   "mimetype": "text/x-python",
   "name": "python",
   "nbconvert_exporter": "python",
   "pygments_lexer": "ipython3",
   "version": "3.9.13"
  }
 },
 "nbformat": 4,
 "nbformat_minor": 5
}
