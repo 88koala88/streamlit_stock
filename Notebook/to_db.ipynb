{
 "cells": [
  {
   "cell_type": "code",
   "execution_count": 1,
   "id": "6ba11056",
   "metadata": {},
   "outputs": [],
   "source": [
    "import pandas as pd\n",
    "import psycopg2 as pg2\n",
    "from sqlalchemy import create_engine"
   ]
  },
  {
   "cell_type": "code",
   "execution_count": null,
   "id": "13445382",
   "metadata": {},
   "outputs": [],
   "source": [
    "username = 'koala'\n",
    "password = '1234'\n",
    "host = '접속할 IP주소'\n",
    "database = 'koaladb'\n",
    "\n",
    "engine = create_engine(f'postgresql+psycopg2://{username}:{password}@{host}:5432/{database}')"
   ]
  },
  {
   "cell_type": "code",
   "execution_count": null,
   "id": "6527f559",
   "metadata": {},
   "outputs": [],
   "source": [
    "corp_info_df = pd.read_csv('corp_info.csv')"
   ]
  },
  {
   "cell_type": "code",
   "execution_count": null,
   "id": "c46bd855",
   "metadata": {},
   "outputs": [],
   "source": [
    "corp_info_df.to_sql('corp_info_df', con=engine, if_exists='append', index=False)"
   ]
  }
 ],
 "metadata": {
  "kernelspec": {
   "display_name": "Python 3 (ipykernel)",
   "language": "python",
   "name": "python3"
  },
  "language_info": {
   "codemirror_mode": {
    "name": "ipython",
    "version": 3
   },
   "file_extension": ".py",
   "mimetype": "text/x-python",
   "name": "python",
   "nbconvert_exporter": "python",
   "pygments_lexer": "ipython3",
   "version": "3.9.13"
  }
 },
 "nbformat": 4,
 "nbformat_minor": 5
}
