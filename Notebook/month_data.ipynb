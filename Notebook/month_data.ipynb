{
 "cells": [
  {
   "cell_type": "code",
   "execution_count": 31,
   "id": "68e7e437",
   "metadata": {},
   "outputs": [],
   "source": [
    "import pandas as pd\n",
    "import numpy as np"
   ]
  },
  {
   "cell_type": "code",
   "execution_count": 32,
   "id": "543eff88",
   "metadata": {},
   "outputs": [],
   "source": [
    "kospi_data = pd.read_csv('../Data/kospi_data.csv')"
   ]
  },
  {
   "cell_type": "code",
   "execution_count": 33,
   "id": "648db3a0",
   "metadata": {},
   "outputs": [
    {
     "data": {
      "text/html": [
       "<div>\n",
       "<style scoped>\n",
       "    .dataframe tbody tr th:only-of-type {\n",
       "        vertical-align: middle;\n",
       "    }\n",
       "\n",
       "    .dataframe tbody tr th {\n",
       "        vertical-align: top;\n",
       "    }\n",
       "\n",
       "    .dataframe thead th {\n",
       "        text-align: right;\n",
       "    }\n",
       "</style>\n",
       "<table border=\"1\" class=\"dataframe\">\n",
       "  <thead>\n",
       "    <tr style=\"text-align: right;\">\n",
       "      <th></th>\n",
       "      <th>Unnamed: 0</th>\n",
       "      <th>날짜</th>\n",
       "      <th>시가</th>\n",
       "      <th>고가</th>\n",
       "      <th>저가</th>\n",
       "      <th>종가</th>\n",
       "      <th>거래량</th>\n",
       "      <th>거래대금</th>\n",
       "      <th>등락률</th>\n",
       "      <th>ticker</th>\n",
       "      <th>corp_name</th>\n",
       "      <th>market</th>\n",
       "    </tr>\n",
       "  </thead>\n",
       "  <tbody>\n",
       "    <tr>\n",
       "      <th>0</th>\n",
       "      <td>0</td>\n",
       "      <td>2023-01-02</td>\n",
       "      <td>55500</td>\n",
       "      <td>56100</td>\n",
       "      <td>55200</td>\n",
       "      <td>55500</td>\n",
       "      <td>10031448</td>\n",
       "      <td>558433491400</td>\n",
       "      <td>0.36</td>\n",
       "      <td>005930</td>\n",
       "      <td>삼성전자</td>\n",
       "      <td>KOSPI</td>\n",
       "    </tr>\n",
       "    <tr>\n",
       "      <th>1</th>\n",
       "      <td>1</td>\n",
       "      <td>2023-01-03</td>\n",
       "      <td>55400</td>\n",
       "      <td>56000</td>\n",
       "      <td>54500</td>\n",
       "      <td>55400</td>\n",
       "      <td>13547030</td>\n",
       "      <td>747898872200</td>\n",
       "      <td>-0.18</td>\n",
       "      <td>005930</td>\n",
       "      <td>삼성전자</td>\n",
       "      <td>KOSPI</td>\n",
       "    </tr>\n",
       "    <tr>\n",
       "      <th>2</th>\n",
       "      <td>2</td>\n",
       "      <td>2023-01-04</td>\n",
       "      <td>55700</td>\n",
       "      <td>58000</td>\n",
       "      <td>55600</td>\n",
       "      <td>57800</td>\n",
       "      <td>20188071</td>\n",
       "      <td>1151473733800</td>\n",
       "      <td>4.33</td>\n",
       "      <td>005930</td>\n",
       "      <td>삼성전자</td>\n",
       "      <td>KOSPI</td>\n",
       "    </tr>\n",
       "  </tbody>\n",
       "</table>\n",
       "</div>"
      ],
      "text/plain": [
       "   Unnamed: 0          날짜     시가     고가     저가     종가       거래량  \\\n",
       "0           0  2023-01-02  55500  56100  55200  55500  10031448   \n",
       "1           1  2023-01-03  55400  56000  54500  55400  13547030   \n",
       "2           2  2023-01-04  55700  58000  55600  57800  20188071   \n",
       "\n",
       "            거래대금   등락률  ticker corp_name market  \n",
       "0   558433491400  0.36  005930      삼성전자  KOSPI  \n",
       "1   747898872200 -0.18  005930      삼성전자  KOSPI  \n",
       "2  1151473733800  4.33  005930      삼성전자  KOSPI  "
      ]
     },
     "execution_count": 33,
     "metadata": {},
     "output_type": "execute_result"
    }
   ],
   "source": [
    "kospi_data.head(3)"
   ]
  },
  {
   "cell_type": "code",
   "execution_count": 34,
   "id": "3af0c561",
   "metadata": {},
   "outputs": [],
   "source": [
    "kospi_data['날짜'] = pd.to_datetime(kospi_data[\"날짜\"])"
   ]
  },
  {
   "cell_type": "code",
   "execution_count": 35,
   "id": "d145edbc",
   "metadata": {},
   "outputs": [
    {
     "data": {
      "text/html": [
       "<div>\n",
       "<style scoped>\n",
       "    .dataframe tbody tr th:only-of-type {\n",
       "        vertical-align: middle;\n",
       "    }\n",
       "\n",
       "    .dataframe tbody tr th {\n",
       "        vertical-align: top;\n",
       "    }\n",
       "\n",
       "    .dataframe thead th {\n",
       "        text-align: right;\n",
       "    }\n",
       "</style>\n",
       "<table border=\"1\" class=\"dataframe\">\n",
       "  <thead>\n",
       "    <tr style=\"text-align: right;\">\n",
       "      <th></th>\n",
       "      <th>년</th>\n",
       "      <th>월</th>\n",
       "      <th>종가</th>\n",
       "    </tr>\n",
       "  </thead>\n",
       "  <tbody>\n",
       "    <tr>\n",
       "      <th>0</th>\n",
       "      <td>2023</td>\n",
       "      <td>1</td>\n",
       "      <td>38136.777518</td>\n",
       "    </tr>\n",
       "    <tr>\n",
       "      <th>1</th>\n",
       "      <td>2023</td>\n",
       "      <td>2</td>\n",
       "      <td>39466.302754</td>\n",
       "    </tr>\n",
       "    <tr>\n",
       "      <th>2</th>\n",
       "      <td>2023</td>\n",
       "      <td>3</td>\n",
       "      <td>38957.292130</td>\n",
       "    </tr>\n",
       "    <tr>\n",
       "      <th>3</th>\n",
       "      <td>2023</td>\n",
       "      <td>4</td>\n",
       "      <td>39729.207222</td>\n",
       "    </tr>\n",
       "    <tr>\n",
       "      <th>4</th>\n",
       "      <td>2023</td>\n",
       "      <td>5</td>\n",
       "      <td>38480.800980</td>\n",
       "    </tr>\n",
       "    <tr>\n",
       "      <th>5</th>\n",
       "      <td>2023</td>\n",
       "      <td>6</td>\n",
       "      <td>39039.952364</td>\n",
       "    </tr>\n",
       "  </tbody>\n",
       "</table>\n",
       "</div>"
      ],
      "text/plain": [
       "      년  월            종가\n",
       "0  2023  1  38136.777518\n",
       "1  2023  2  39466.302754\n",
       "2  2023  3  38957.292130\n",
       "3  2023  4  39729.207222\n",
       "4  2023  5  38480.800980\n",
       "5  2023  6  39039.952364"
      ]
     },
     "execution_count": 35,
     "metadata": {},
     "output_type": "execute_result"
    }
   ],
   "source": [
    "kospi_data['월'] = kospi_data['날짜'].dt.month\n",
    "kospi_data['년'] = kospi_data['날짜'].dt.year\n",
    "kospi_data_month = kospi_data[['년','월', '종가']].groupby(['년','월']).mean()\n",
    "kospi_data_month = kospi_data_month.reset_index()\n",
    "kospi_data_month"
   ]
  },
  {
   "cell_type": "code",
   "execution_count": 36,
   "id": "bd83a8bd",
   "metadata": {},
   "outputs": [],
   "source": [
    "kospi_data_month.to_csv('../Data/kospi_data_month.csv', index=False)"
   ]
  },
  {
   "cell_type": "code",
   "execution_count": 37,
   "id": "027c6a2c",
   "metadata": {},
   "outputs": [
    {
     "name": "stderr",
     "output_type": "stream",
     "text": [
      "/tmp/ipykernel_2994/807975682.py:1: DtypeWarning: Columns (9) have mixed types. Specify dtype option on import or set low_memory=False.\n",
      "  kosdaq_data = pd.read_csv('../Data/kosdaq_data.csv')\n"
     ]
    }
   ],
   "source": [
    "kosdaq_data = pd.read_csv('../Data/kosdaq_data.csv')"
   ]
  },
  {
   "cell_type": "code",
   "execution_count": 38,
   "id": "c9ac71cd",
   "metadata": {},
   "outputs": [
    {
     "data": {
      "text/html": [
       "<div>\n",
       "<style scoped>\n",
       "    .dataframe tbody tr th:only-of-type {\n",
       "        vertical-align: middle;\n",
       "    }\n",
       "\n",
       "    .dataframe tbody tr th {\n",
       "        vertical-align: top;\n",
       "    }\n",
       "\n",
       "    .dataframe thead th {\n",
       "        text-align: right;\n",
       "    }\n",
       "</style>\n",
       "<table border=\"1\" class=\"dataframe\">\n",
       "  <thead>\n",
       "    <tr style=\"text-align: right;\">\n",
       "      <th></th>\n",
       "      <th>Unnamed: 0</th>\n",
       "      <th>날짜</th>\n",
       "      <th>시가</th>\n",
       "      <th>고가</th>\n",
       "      <th>저가</th>\n",
       "      <th>종가</th>\n",
       "      <th>거래량</th>\n",
       "      <th>거래대금</th>\n",
       "      <th>등락률</th>\n",
       "      <th>ticker</th>\n",
       "      <th>corp_name</th>\n",
       "      <th>market</th>\n",
       "    </tr>\n",
       "  </thead>\n",
       "  <tbody>\n",
       "    <tr>\n",
       "      <th>0</th>\n",
       "      <td>1989</td>\n",
       "      <td>2023-01-02</td>\n",
       "      <td>106000</td>\n",
       "      <td>111000</td>\n",
       "      <td>105600</td>\n",
       "      <td>110000</td>\n",
       "      <td>465719</td>\n",
       "      <td>50670370100</td>\n",
       "      <td>6.80</td>\n",
       "      <td>86520</td>\n",
       "      <td>에코프로</td>\n",
       "      <td>KOSDAQ</td>\n",
       "    </tr>\n",
       "    <tr>\n",
       "      <th>1</th>\n",
       "      <td>1990</td>\n",
       "      <td>2023-01-03</td>\n",
       "      <td>109500</td>\n",
       "      <td>114100</td>\n",
       "      <td>108500</td>\n",
       "      <td>114000</td>\n",
       "      <td>415425</td>\n",
       "      <td>46540277400</td>\n",
       "      <td>3.64</td>\n",
       "      <td>86520</td>\n",
       "      <td>에코프로</td>\n",
       "      <td>KOSDAQ</td>\n",
       "    </tr>\n",
       "    <tr>\n",
       "      <th>2</th>\n",
       "      <td>1991</td>\n",
       "      <td>2023-01-04</td>\n",
       "      <td>111100</td>\n",
       "      <td>114600</td>\n",
       "      <td>110800</td>\n",
       "      <td>114000</td>\n",
       "      <td>288851</td>\n",
       "      <td>32743752300</td>\n",
       "      <td>0.00</td>\n",
       "      <td>86520</td>\n",
       "      <td>에코프로</td>\n",
       "      <td>KOSDAQ</td>\n",
       "    </tr>\n",
       "  </tbody>\n",
       "</table>\n",
       "</div>"
      ],
      "text/plain": [
       "   Unnamed: 0          날짜      시가      고가      저가      종가     거래량  \\\n",
       "0        1989  2023-01-02  106000  111000  105600  110000  465719   \n",
       "1        1990  2023-01-03  109500  114100  108500  114000  415425   \n",
       "2        1991  2023-01-04  111100  114600  110800  114000  288851   \n",
       "\n",
       "          거래대금   등락률 ticker corp_name  market  \n",
       "0  50670370100  6.80  86520      에코프로  KOSDAQ  \n",
       "1  46540277400  3.64  86520      에코프로  KOSDAQ  \n",
       "2  32743752300  0.00  86520      에코프로  KOSDAQ  "
      ]
     },
     "execution_count": 38,
     "metadata": {},
     "output_type": "execute_result"
    }
   ],
   "source": [
    "kosdaq_data.head(3)"
   ]
  },
  {
   "cell_type": "code",
   "execution_count": 39,
   "id": "27ce133b",
   "metadata": {},
   "outputs": [],
   "source": [
    "kosdaq_data['날짜'] = pd.to_datetime(kosdaq_data[\"날짜\"])"
   ]
  },
  {
   "cell_type": "code",
   "execution_count": 40,
   "id": "1fe6ff34",
   "metadata": {},
   "outputs": [
    {
     "data": {
      "text/html": [
       "<div>\n",
       "<style scoped>\n",
       "    .dataframe tbody tr th:only-of-type {\n",
       "        vertical-align: middle;\n",
       "    }\n",
       "\n",
       "    .dataframe tbody tr th {\n",
       "        vertical-align: top;\n",
       "    }\n",
       "\n",
       "    .dataframe thead th {\n",
       "        text-align: right;\n",
       "    }\n",
       "</style>\n",
       "<table border=\"1\" class=\"dataframe\">\n",
       "  <thead>\n",
       "    <tr style=\"text-align: right;\">\n",
       "      <th></th>\n",
       "      <th>년</th>\n",
       "      <th>월</th>\n",
       "      <th>종가</th>\n",
       "    </tr>\n",
       "  </thead>\n",
       "  <tbody>\n",
       "    <tr>\n",
       "      <th>0</th>\n",
       "      <td>2023</td>\n",
       "      <td>1</td>\n",
       "      <td>9069.735697</td>\n",
       "    </tr>\n",
       "    <tr>\n",
       "      <th>1</th>\n",
       "      <td>2023</td>\n",
       "      <td>2</td>\n",
       "      <td>10062.841373</td>\n",
       "    </tr>\n",
       "    <tr>\n",
       "      <th>2</th>\n",
       "      <td>2023</td>\n",
       "      <td>3</td>\n",
       "      <td>10432.759227</td>\n",
       "    </tr>\n",
       "    <tr>\n",
       "      <th>3</th>\n",
       "      <td>2023</td>\n",
       "      <td>4</td>\n",
       "      <td>11008.896870</td>\n",
       "    </tr>\n",
       "    <tr>\n",
       "      <th>4</th>\n",
       "      <td>2023</td>\n",
       "      <td>5</td>\n",
       "      <td>10586.573081</td>\n",
       "    </tr>\n",
       "    <tr>\n",
       "      <th>5</th>\n",
       "      <td>2023</td>\n",
       "      <td>6</td>\n",
       "      <td>11093.011842</td>\n",
       "    </tr>\n",
       "  </tbody>\n",
       "</table>\n",
       "</div>"
      ],
      "text/plain": [
       "      년  월            종가\n",
       "0  2023  1   9069.735697\n",
       "1  2023  2  10062.841373\n",
       "2  2023  3  10432.759227\n",
       "3  2023  4  11008.896870\n",
       "4  2023  5  10586.573081\n",
       "5  2023  6  11093.011842"
      ]
     },
     "execution_count": 40,
     "metadata": {},
     "output_type": "execute_result"
    }
   ],
   "source": [
    "kosdaq_data['월'] = kosdaq_data['날짜'].dt.month\n",
    "kosdaq_data['년'] = kosdaq_data['날짜'].dt.year\n",
    "kosdaq_data_month = kosdaq_data[['년','월', '종가']].groupby(['년','월']).mean()\n",
    "kosdaq_data_month = kosdaq_data_month.reset_index()\n",
    "kosdaq_data_month"
   ]
  },
  {
   "cell_type": "code",
   "execution_count": 41,
   "id": "c0dd201c",
   "metadata": {},
   "outputs": [],
   "source": [
    "kosdaq_data_month.to_csv('../Data/kosdaq_data_month.csv', index=False)"
   ]
  },
  {
   "cell_type": "code",
   "execution_count": null,
   "id": "e36d6412",
   "metadata": {},
   "outputs": [],
   "source": []
  }
 ],
 "metadata": {
  "kernelspec": {
   "display_name": "Python 3 (ipykernel)",
   "language": "python",
   "name": "python3"
  },
  "language_info": {
   "codemirror_mode": {
    "name": "ipython",
    "version": 3
   },
   "file_extension": ".py",
   "mimetype": "text/x-python",
   "name": "python",
   "nbconvert_exporter": "python",
   "pygments_lexer": "ipython3",
   "version": "3.9.13"
  }
 },
 "nbformat": 4,
 "nbformat_minor": 5
}
