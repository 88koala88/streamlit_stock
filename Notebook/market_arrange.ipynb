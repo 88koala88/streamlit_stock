{
 "cells": [
  {
   "cell_type": "code",
   "execution_count": 1,
   "id": "09573cfe",
   "metadata": {},
   "outputs": [],
   "source": [
    "import pandas as pd"
   ]
  },
  {
   "cell_type": "code",
   "execution_count": 2,
   "id": "f42f9122",
   "metadata": {},
   "outputs": [],
   "source": [
    "df = pd.read_csv('stock_data_month.csv')"
   ]
  },
  {
   "cell_type": "code",
   "execution_count": 3,
   "id": "1f84c5c0",
   "metadata": {},
   "outputs": [
    {
     "data": {
      "text/html": [
       "<div>\n",
       "<style scoped>\n",
       "    .dataframe tbody tr th:only-of-type {\n",
       "        vertical-align: middle;\n",
       "    }\n",
       "\n",
       "    .dataframe tbody tr th {\n",
       "        vertical-align: top;\n",
       "    }\n",
       "\n",
       "    .dataframe thead th {\n",
       "        text-align: right;\n",
       "    }\n",
       "</style>\n",
       "<table border=\"1\" class=\"dataframe\">\n",
       "  <thead>\n",
       "    <tr style=\"text-align: right;\">\n",
       "      <th></th>\n",
       "      <th>년</th>\n",
       "      <th>월</th>\n",
       "      <th>ticker</th>\n",
       "      <th>종가</th>\n",
       "      <th>거래량</th>\n",
       "      <th>날짜</th>\n",
       "      <th>corp_name</th>\n",
       "      <th>marke</th>\n",
       "    </tr>\n",
       "  </thead>\n",
       "  <tbody>\n",
       "    <tr>\n",
       "      <th>0</th>\n",
       "      <td>2018</td>\n",
       "      <td>1</td>\n",
       "      <td>095570</td>\n",
       "      <td>7303.636364</td>\n",
       "      <td>52151.272727</td>\n",
       "      <td>2018-01-01</td>\n",
       "      <td>AJ네트웍스</td>\n",
       "      <td>KOSPI</td>\n",
       "    </tr>\n",
       "    <tr>\n",
       "      <th>1</th>\n",
       "      <td>2018</td>\n",
       "      <td>2</td>\n",
       "      <td>095570</td>\n",
       "      <td>7689.444444</td>\n",
       "      <td>45100.722222</td>\n",
       "      <td>2018-02-01</td>\n",
       "      <td>AJ네트웍스</td>\n",
       "      <td>KOSPI</td>\n",
       "    </tr>\n",
       "    <tr>\n",
       "      <th>2</th>\n",
       "      <td>2018</td>\n",
       "      <td>3</td>\n",
       "      <td>095570</td>\n",
       "      <td>7266.190476</td>\n",
       "      <td>32050.428571</td>\n",
       "      <td>2018-03-01</td>\n",
       "      <td>AJ네트웍스</td>\n",
       "      <td>KOSPI</td>\n",
       "    </tr>\n",
       "  </tbody>\n",
       "</table>\n",
       "</div>"
      ],
      "text/plain": [
       "      년  월  ticker           종가           거래량          날짜 corp_name  marke\n",
       "0  2018  1  095570  7303.636364  52151.272727  2018-01-01    AJ네트웍스  KOSPI\n",
       "1  2018  2  095570  7689.444444  45100.722222  2018-02-01    AJ네트웍스  KOSPI\n",
       "2  2018  3  095570  7266.190476  32050.428571  2018-03-01    AJ네트웍스  KOSPI"
      ]
     },
     "execution_count": 3,
     "metadata": {},
     "output_type": "execute_result"
    }
   ],
   "source": [
    "df.head(3)"
   ]
  },
  {
   "cell_type": "code",
   "execution_count": 4,
   "id": "65d2d72e",
   "metadata": {},
   "outputs": [],
   "source": [
    "df2 = df[df['marke'] == 'KOSPI']"
   ]
  },
  {
   "cell_type": "code",
   "execution_count": 5,
   "id": "05248c0e",
   "metadata": {},
   "outputs": [
    {
     "data": {
      "text/html": [
       "<div>\n",
       "<style scoped>\n",
       "    .dataframe tbody tr th:only-of-type {\n",
       "        vertical-align: middle;\n",
       "    }\n",
       "\n",
       "    .dataframe tbody tr th {\n",
       "        vertical-align: top;\n",
       "    }\n",
       "\n",
       "    .dataframe thead th {\n",
       "        text-align: right;\n",
       "    }\n",
       "</style>\n",
       "<table border=\"1\" class=\"dataframe\">\n",
       "  <thead>\n",
       "    <tr style=\"text-align: right;\">\n",
       "      <th></th>\n",
       "      <th>년</th>\n",
       "      <th>월</th>\n",
       "      <th>ticker</th>\n",
       "      <th>종가</th>\n",
       "      <th>거래량</th>\n",
       "      <th>날짜</th>\n",
       "      <th>corp_name</th>\n",
       "      <th>marke</th>\n",
       "    </tr>\n",
       "  </thead>\n",
       "  <tbody>\n",
       "    <tr>\n",
       "      <th>0</th>\n",
       "      <td>2018</td>\n",
       "      <td>1</td>\n",
       "      <td>095570</td>\n",
       "      <td>7303.636364</td>\n",
       "      <td>52151.272727</td>\n",
       "      <td>2018-01-01</td>\n",
       "      <td>AJ네트웍스</td>\n",
       "      <td>KOSPI</td>\n",
       "    </tr>\n",
       "    <tr>\n",
       "      <th>1</th>\n",
       "      <td>2018</td>\n",
       "      <td>2</td>\n",
       "      <td>095570</td>\n",
       "      <td>7689.444444</td>\n",
       "      <td>45100.722222</td>\n",
       "      <td>2018-02-01</td>\n",
       "      <td>AJ네트웍스</td>\n",
       "      <td>KOSPI</td>\n",
       "    </tr>\n",
       "    <tr>\n",
       "      <th>2</th>\n",
       "      <td>2018</td>\n",
       "      <td>3</td>\n",
       "      <td>095570</td>\n",
       "      <td>7266.190476</td>\n",
       "      <td>32050.428571</td>\n",
       "      <td>2018-03-01</td>\n",
       "      <td>AJ네트웍스</td>\n",
       "      <td>KOSPI</td>\n",
       "    </tr>\n",
       "  </tbody>\n",
       "</table>\n",
       "</div>"
      ],
      "text/plain": [
       "      년  월  ticker           종가           거래량          날짜 corp_name  marke\n",
       "0  2018  1  095570  7303.636364  52151.272727  2018-01-01    AJ네트웍스  KOSPI\n",
       "1  2018  2  095570  7689.444444  45100.722222  2018-02-01    AJ네트웍스  KOSPI\n",
       "2  2018  3  095570  7266.190476  32050.428571  2018-03-01    AJ네트웍스  KOSPI"
      ]
     },
     "execution_count": 5,
     "metadata": {},
     "output_type": "execute_result"
    }
   ],
   "source": [
    "df2.head(3)"
   ]
  },
  {
   "cell_type": "code",
   "execution_count": 6,
   "id": "e8a61a18",
   "metadata": {},
   "outputs": [],
   "source": [
    "df3 = df[df['marke'] == 'KOSDAQ']"
   ]
  },
  {
   "cell_type": "code",
   "execution_count": 7,
   "id": "079afcd8",
   "metadata": {},
   "outputs": [
    {
     "data": {
      "text/html": [
       "<div>\n",
       "<style scoped>\n",
       "    .dataframe tbody tr th:only-of-type {\n",
       "        vertical-align: middle;\n",
       "    }\n",
       "\n",
       "    .dataframe tbody tr th {\n",
       "        vertical-align: top;\n",
       "    }\n",
       "\n",
       "    .dataframe thead th {\n",
       "        text-align: right;\n",
       "    }\n",
       "</style>\n",
       "<table border=\"1\" class=\"dataframe\">\n",
       "  <thead>\n",
       "    <tr style=\"text-align: right;\">\n",
       "      <th></th>\n",
       "      <th>년</th>\n",
       "      <th>월</th>\n",
       "      <th>ticker</th>\n",
       "      <th>종가</th>\n",
       "      <th>거래량</th>\n",
       "      <th>날짜</th>\n",
       "      <th>corp_name</th>\n",
       "      <th>marke</th>\n",
       "    </tr>\n",
       "  </thead>\n",
       "  <tbody>\n",
       "    <tr>\n",
       "      <th>59608</th>\n",
       "      <td>2018</td>\n",
       "      <td>1</td>\n",
       "      <td>060310</td>\n",
       "      <td>2235.000000</td>\n",
       "      <td>329245.818182</td>\n",
       "      <td>2018-01-01</td>\n",
       "      <td>3S</td>\n",
       "      <td>KOSDAQ</td>\n",
       "    </tr>\n",
       "    <tr>\n",
       "      <th>59609</th>\n",
       "      <td>2018</td>\n",
       "      <td>2</td>\n",
       "      <td>060310</td>\n",
       "      <td>2135.555556</td>\n",
       "      <td>127324.722222</td>\n",
       "      <td>2018-02-01</td>\n",
       "      <td>3S</td>\n",
       "      <td>KOSDAQ</td>\n",
       "    </tr>\n",
       "    <tr>\n",
       "      <th>59610</th>\n",
       "      <td>2018</td>\n",
       "      <td>3</td>\n",
       "      <td>060310</td>\n",
       "      <td>2133.809524</td>\n",
       "      <td>316193.857143</td>\n",
       "      <td>2018-03-01</td>\n",
       "      <td>3S</td>\n",
       "      <td>KOSDAQ</td>\n",
       "    </tr>\n",
       "  </tbody>\n",
       "</table>\n",
       "</div>"
      ],
      "text/plain": [
       "          년  월  ticker           종가            거래량          날짜 corp_name  \\\n",
       "59608  2018  1  060310  2235.000000  329245.818182  2018-01-01        3S   \n",
       "59609  2018  2  060310  2135.555556  127324.722222  2018-02-01        3S   \n",
       "59610  2018  3  060310  2133.809524  316193.857143  2018-03-01        3S   \n",
       "\n",
       "        marke  \n",
       "59608  KOSDAQ  \n",
       "59609  KOSDAQ  \n",
       "59610  KOSDAQ  "
      ]
     },
     "execution_count": 7,
     "metadata": {},
     "output_type": "execute_result"
    }
   ],
   "source": [
    "df3.head(3)"
   ]
  },
  {
   "cell_type": "code",
   "execution_count": 8,
   "id": "c1c90138",
   "metadata": {},
   "outputs": [],
   "source": [
    "df2.to_csv('kospi_data_month.csv')"
   ]
  },
  {
   "cell_type": "code",
   "execution_count": 9,
   "id": "723b596e",
   "metadata": {},
   "outputs": [],
   "source": [
    "df3.to_csv('kosdaq_data_month.csv')"
   ]
  },
  {
   "cell_type": "code",
   "execution_count": null,
   "id": "66950e90",
   "metadata": {},
   "outputs": [],
   "source": []
  }
 ],
 "metadata": {
  "kernelspec": {
   "display_name": "Python 3 (ipykernel)",
   "language": "python",
   "name": "python3"
  },
  "language_info": {
   "codemirror_mode": {
    "name": "ipython",
    "version": 3
   },
   "file_extension": ".py",
   "mimetype": "text/x-python",
   "name": "python",
   "nbconvert_exporter": "python",
   "pygments_lexer": "ipython3",
   "version": "3.9.13"
  }
 },
 "nbformat": 4,
 "nbformat_minor": 5
}
