{
 "cells": [
  {
   "cell_type": "code",
   "execution_count": 3,
   "id": "a3b0a16c",
   "metadata": {},
   "outputs": [],
   "source": [
    "import glob\n",
    "from google.cloud import bigquery\n",
    "from google.oauth2 import service_account\n",
    "from google.cloud import storage\n",
    "import pandas as pd\n",
    "import db_dtypes     "
   ]
  },
  {
   "cell_type": "code",
   "execution_count": 4,
   "id": "79684895",
   "metadata": {},
   "outputs": [],
   "source": [
    "key_path = glob.glob(\"../*.json\")[0]   # glob.glob(\"*.json\") json 확장자 다 가져옴\n",
    "credentials = service_account.Credentials.from_service_account_file(key_path)"
   ]
  },
  {
   "cell_type": "code",
   "execution_count": 5,
   "id": "622c868f",
   "metadata": {},
   "outputs": [],
   "source": [
    "storage_client = storage.Client(credentials = credentials, \n",
    "                         project = credentials.project_id)"
   ]
  },
  {
   "cell_type": "markdown",
   "id": "362cab52",
   "metadata": {},
   "source": [
    "### upload"
   ]
  },
  {
   "cell_type": "code",
   "execution_count": 12,
   "id": "a0f6188c",
   "metadata": {},
   "outputs": [],
   "source": [
    "bucket_name = 'data1-study1'  \n",
    "source_file_name = '../Data/kospi_data.csv'   \n",
    "destination_blob_name = 'kospi_data.csv' "
   ]
  },
  {
   "cell_type": "code",
   "execution_count": 13,
   "id": "f5b440e8",
   "metadata": {},
   "outputs": [],
   "source": [
    "bucket = storage_client.bucket(bucket_name) \n",
    "blob = bucket.blob(destination_blob_name)  \n",
    "blob.upload_from_filename(source_file_name) "
   ]
  },
  {
   "cell_type": "markdown",
   "id": "67ad0c11",
   "metadata": {},
   "source": [
    "### download"
   ]
  },
  {
   "cell_type": "code",
   "execution_count": 6,
   "id": "196fc059",
   "metadata": {},
   "outputs": [],
   "source": [
    "bucket_name = 'data1-study1'  \n",
    "source_file_name = '../Data/price_index.csv'   \n",
    "destination_blob_name = 'price_index.csv' "
   ]
  },
  {
   "cell_type": "code",
   "execution_count": 7,
   "id": "7ba6d040",
   "metadata": {},
   "outputs": [],
   "source": [
    "bucket = storage_client.bucket(bucket_name) \n",
    "blob = bucket.blob(destination_blob_name)  \n",
    "blob.upload_from_filename(source_file_name) "
   ]
  },
  {
   "cell_type": "code",
   "execution_count": null,
   "id": "53ddd154",
   "metadata": {},
   "outputs": [],
   "source": []
  }
 ],
 "metadata": {
  "kernelspec": {
   "display_name": "Python 3 (ipykernel)",
   "language": "python",
   "name": "python3"
  },
  "language_info": {
   "codemirror_mode": {
    "name": "ipython",
    "version": 3
   },
   "file_extension": ".py",
   "mimetype": "text/x-python",
   "name": "python",
   "nbconvert_exporter": "python",
   "pygments_lexer": "ipython3",
   "version": "3.9.13"
  }
 },
 "nbformat": 4,
 "nbformat_minor": 5
}
