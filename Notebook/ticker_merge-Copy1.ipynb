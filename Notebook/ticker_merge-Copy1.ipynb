{
 "cells": [
  {
   "cell_type": "code",
   "execution_count": 19,
   "id": "60a81f3a",
   "metadata": {},
   "outputs": [],
   "source": [
    "import pandas as pd"
   ]
  },
  {
   "cell_type": "code",
   "execution_count": 20,
   "id": "1035dce1",
   "metadata": {},
   "outputs": [
    {
     "name": "stderr",
     "output_type": "stream",
     "text": [
      "/tmp/ipykernel_90277/486039899.py:1: DtypeWarning: Columns (8) have mixed types. Specify dtype option on import or set low_memory=False.\n",
      "  kor_stock = pd.read_csv('kor_stock_data.csv')\n"
     ]
    }
   ],
   "source": [
    "kor_stock = pd.read_csv('kor_stock_data.csv')"
   ]
  },
  {
   "cell_type": "code",
   "execution_count": 21,
   "id": "7bb229a0",
   "metadata": {},
   "outputs": [
    {
     "data": {
      "text/html": [
       "<div>\n",
       "<style scoped>\n",
       "    .dataframe tbody tr th:only-of-type {\n",
       "        vertical-align: middle;\n",
       "    }\n",
       "\n",
       "    .dataframe tbody tr th {\n",
       "        vertical-align: top;\n",
       "    }\n",
       "\n",
       "    .dataframe thead th {\n",
       "        text-align: right;\n",
       "    }\n",
       "</style>\n",
       "<table border=\"1\" class=\"dataframe\">\n",
       "  <thead>\n",
       "    <tr style=\"text-align: right;\">\n",
       "      <th></th>\n",
       "      <th>날짜</th>\n",
       "      <th>시가</th>\n",
       "      <th>고가</th>\n",
       "      <th>저가</th>\n",
       "      <th>종가</th>\n",
       "      <th>거래량</th>\n",
       "      <th>거래대금</th>\n",
       "      <th>등락률</th>\n",
       "      <th>ticker</th>\n",
       "    </tr>\n",
       "  </thead>\n",
       "  <tbody>\n",
       "    <tr>\n",
       "      <th>0</th>\n",
       "      <td>2018-01-02</td>\n",
       "      <td>6980</td>\n",
       "      <td>6990</td>\n",
       "      <td>6850</td>\n",
       "      <td>6970</td>\n",
       "      <td>60294</td>\n",
       "      <td>417947300</td>\n",
       "      <td>0.00</td>\n",
       "      <td>095570</td>\n",
       "    </tr>\n",
       "    <tr>\n",
       "      <th>1</th>\n",
       "      <td>2018-01-03</td>\n",
       "      <td>6970</td>\n",
       "      <td>7000</td>\n",
       "      <td>6910</td>\n",
       "      <td>6920</td>\n",
       "      <td>45848</td>\n",
       "      <td>319107800</td>\n",
       "      <td>-0.72</td>\n",
       "      <td>095570</td>\n",
       "    </tr>\n",
       "    <tr>\n",
       "      <th>2</th>\n",
       "      <td>2018-01-04</td>\n",
       "      <td>6990</td>\n",
       "      <td>7100</td>\n",
       "      <td>6920</td>\n",
       "      <td>7070</td>\n",
       "      <td>53176</td>\n",
       "      <td>372980010</td>\n",
       "      <td>2.17</td>\n",
       "      <td>095570</td>\n",
       "    </tr>\n",
       "  </tbody>\n",
       "</table>\n",
       "</div>"
      ],
      "text/plain": [
       "           날짜    시가    고가    저가    종가    거래량       거래대금   등락률  ticker\n",
       "0  2018-01-02  6980  6990  6850  6970  60294  417947300  0.00  095570\n",
       "1  2018-01-03  6970  7000  6910  6920  45848  319107800 -0.72  095570\n",
       "2  2018-01-04  6990  7100  6920  7070  53176  372980010  2.17  095570"
      ]
     },
     "execution_count": 21,
     "metadata": {},
     "output_type": "execute_result"
    }
   ],
   "source": [
    "kor_stock.head(3)"
   ]
  },
  {
   "cell_type": "code",
   "execution_count": 22,
   "id": "651ca0b5",
   "metadata": {},
   "outputs": [],
   "source": [
    "ticker_name = pd.read_csv('kor_ticker_list.csv')"
   ]
  },
  {
   "cell_type": "code",
   "execution_count": 23,
   "id": "5172a6db",
   "metadata": {},
   "outputs": [
    {
     "data": {
      "text/html": [
       "<div>\n",
       "<style scoped>\n",
       "    .dataframe tbody tr th:only-of-type {\n",
       "        vertical-align: middle;\n",
       "    }\n",
       "\n",
       "    .dataframe tbody tr th {\n",
       "        vertical-align: top;\n",
       "    }\n",
       "\n",
       "    .dataframe thead th {\n",
       "        text-align: right;\n",
       "    }\n",
       "</style>\n",
       "<table border=\"1\" class=\"dataframe\">\n",
       "  <thead>\n",
       "    <tr style=\"text-align: right;\">\n",
       "      <th></th>\n",
       "      <th>ticker</th>\n",
       "      <th>corp_name</th>\n",
       "      <th>marke</th>\n",
       "    </tr>\n",
       "  </thead>\n",
       "  <tbody>\n",
       "    <tr>\n",
       "      <th>0</th>\n",
       "      <td>095570</td>\n",
       "      <td>AJ네트웍스</td>\n",
       "      <td>KOSPI</td>\n",
       "    </tr>\n",
       "    <tr>\n",
       "      <th>1</th>\n",
       "      <td>006840</td>\n",
       "      <td>AK홀딩스</td>\n",
       "      <td>KOSPI</td>\n",
       "    </tr>\n",
       "    <tr>\n",
       "      <th>2</th>\n",
       "      <td>027410</td>\n",
       "      <td>BGF</td>\n",
       "      <td>KOSPI</td>\n",
       "    </tr>\n",
       "  </tbody>\n",
       "</table>\n",
       "</div>"
      ],
      "text/plain": [
       "   ticker corp_name  marke\n",
       "0  095570    AJ네트웍스  KOSPI\n",
       "1  006840     AK홀딩스  KOSPI\n",
       "2  027410       BGF  KOSPI"
      ]
     },
     "execution_count": 23,
     "metadata": {},
     "output_type": "execute_result"
    }
   ],
   "source": [
    "ticker_name.head(3)"
   ]
  },
  {
   "cell_type": "code",
   "execution_count": 24,
   "id": "cfb675c1",
   "metadata": {},
   "outputs": [],
   "source": [
    "stock_name = pd.merge(kor_stock, ticker_name, how='left', on='ticker')"
   ]
  },
  {
   "cell_type": "code",
   "execution_count": 25,
   "id": "ceef9fec",
   "metadata": {},
   "outputs": [
    {
     "data": {
      "text/html": [
       "<div>\n",
       "<style scoped>\n",
       "    .dataframe tbody tr th:only-of-type {\n",
       "        vertical-align: middle;\n",
       "    }\n",
       "\n",
       "    .dataframe tbody tr th {\n",
       "        vertical-align: top;\n",
       "    }\n",
       "\n",
       "    .dataframe thead th {\n",
       "        text-align: right;\n",
       "    }\n",
       "</style>\n",
       "<table border=\"1\" class=\"dataframe\">\n",
       "  <thead>\n",
       "    <tr style=\"text-align: right;\">\n",
       "      <th></th>\n",
       "      <th>날짜</th>\n",
       "      <th>시가</th>\n",
       "      <th>고가</th>\n",
       "      <th>저가</th>\n",
       "      <th>종가</th>\n",
       "      <th>거래량</th>\n",
       "      <th>거래대금</th>\n",
       "      <th>등락률</th>\n",
       "      <th>ticker</th>\n",
       "      <th>corp_name</th>\n",
       "      <th>marke</th>\n",
       "    </tr>\n",
       "  </thead>\n",
       "  <tbody>\n",
       "    <tr>\n",
       "      <th>0</th>\n",
       "      <td>2018-01-02</td>\n",
       "      <td>6980</td>\n",
       "      <td>6990</td>\n",
       "      <td>6850</td>\n",
       "      <td>6970</td>\n",
       "      <td>60294</td>\n",
       "      <td>417947300</td>\n",
       "      <td>0.00</td>\n",
       "      <td>095570</td>\n",
       "      <td>AJ네트웍스</td>\n",
       "      <td>KOSPI</td>\n",
       "    </tr>\n",
       "    <tr>\n",
       "      <th>1</th>\n",
       "      <td>2018-01-03</td>\n",
       "      <td>6970</td>\n",
       "      <td>7000</td>\n",
       "      <td>6910</td>\n",
       "      <td>6920</td>\n",
       "      <td>45848</td>\n",
       "      <td>319107800</td>\n",
       "      <td>-0.72</td>\n",
       "      <td>095570</td>\n",
       "      <td>AJ네트웍스</td>\n",
       "      <td>KOSPI</td>\n",
       "    </tr>\n",
       "    <tr>\n",
       "      <th>2</th>\n",
       "      <td>2018-01-04</td>\n",
       "      <td>6990</td>\n",
       "      <td>7100</td>\n",
       "      <td>6920</td>\n",
       "      <td>7070</td>\n",
       "      <td>53176</td>\n",
       "      <td>372980010</td>\n",
       "      <td>2.17</td>\n",
       "      <td>095570</td>\n",
       "      <td>AJ네트웍스</td>\n",
       "      <td>KOSPI</td>\n",
       "    </tr>\n",
       "  </tbody>\n",
       "</table>\n",
       "</div>"
      ],
      "text/plain": [
       "           날짜    시가    고가    저가    종가    거래량       거래대금   등락률  ticker  \\\n",
       "0  2018-01-02  6980  6990  6850  6970  60294  417947300  0.00  095570   \n",
       "1  2018-01-03  6970  7000  6910  6920  45848  319107800 -0.72  095570   \n",
       "2  2018-01-04  6990  7100  6920  7070  53176  372980010  2.17  095570   \n",
       "\n",
       "  corp_name  marke  \n",
       "0    AJ네트웍스  KOSPI  \n",
       "1    AJ네트웍스  KOSPI  \n",
       "2    AJ네트웍스  KOSPI  "
      ]
     },
     "execution_count": 25,
     "metadata": {},
     "output_type": "execute_result"
    }
   ],
   "source": [
    "stock_name.head(3)"
   ]
  },
  {
   "cell_type": "code",
   "execution_count": 26,
   "id": "47c33bb7",
   "metadata": {},
   "outputs": [],
   "source": [
    "stock_name.to_csv('stock_data.csv', index=False)"
   ]
  },
  {
   "cell_type": "code",
   "execution_count": null,
   "id": "e0a1f8e9",
   "metadata": {},
   "outputs": [],
   "source": []
  }
 ],
 "metadata": {
  "kernelspec": {
   "display_name": "Python 3 (ipykernel)",
   "language": "python",
   "name": "python3"
  },
  "language_info": {
   "codemirror_mode": {
    "name": "ipython",
    "version": 3
   },
   "file_extension": ".py",
   "mimetype": "text/x-python",
   "name": "python",
   "nbconvert_exporter": "python",
   "pygments_lexer": "ipython3",
   "version": "3.9.13"
  }
 },
 "nbformat": 4,
 "nbformat_minor": 5
}
