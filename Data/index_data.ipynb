{
 "cells": [
  {
   "cell_type": "code",
   "execution_count": 1,
   "id": "a0410157",
   "metadata": {},
   "outputs": [],
   "source": [
    "from pykrx import stock\n",
    "from pykrx import bond"
   ]
  },
  {
   "cell_type": "code",
   "execution_count": 2,
   "id": "75698ff6",
   "metadata": {},
   "outputs": [
    {
     "name": "stdout",
     "output_type": "stream",
     "text": [
      "['1001', '1002', '1003', '1004', '1005', '1006', '1007', '1008', '1009', '1010', '1011', '1012', '1013', '1014', '1015', '1016', '1017', '1018', '1019', '1020', '1021', '1024', '1025', '1026', '1027', '1028', '1034', '1035', '1150', '1151', '1152', '1153', '1154', '1155', '1156', '1157', '1158', '1159', '1160', '1167', '1182', '1224', '1227', '1232', '1244', '1894']\n"
     ]
    }
   ],
   "source": [
    "tickers = stock.get_index_ticker_list()\n",
    "print(tickers)"
   ]
  },
  {
   "cell_type": "code",
   "execution_count": 3,
   "id": "6e563525",
   "metadata": {},
   "outputs": [
    {
     "name": "stdout",
     "output_type": "stream",
     "text": [
      "['2001', '2002', '2003', '2004', '2012', '2015', '2024', '2026', '2027', '2029', '2031', '2037', '2041', '2042', '2043', '2056', '2058', '2062', '2063', '2065', '2066', '2067', '2068', '2070', '2072', '2074', '2075', '2077', '2151', '2152', '2153', '2154', '2155', '2156', '2157', '2158', '2159', '2160', '2181', '2182', '2183', '2184', '2189', '2203', '2212', '2213', '2214', '2215', '2216', '2217', '2218']\n"
     ]
    }
   ],
   "source": [
    "tickers = stock.get_index_ticker_list(market='KOSDAQ')\n",
    "print(tickers)"
   ]
  },
  {
   "cell_type": "code",
   "execution_count": 9,
   "id": "74832e58",
   "metadata": {},
   "outputs": [
    {
     "name": "stdout",
     "output_type": "stream",
     "text": [
      "코스피              시가       고가       저가       종가        거래량           거래대금  \\\n",
      "날짜                                                                         \n",
      "2018-01-02  2474.86  2481.02  2465.94  2479.65  262205431  4786386686165   \n",
      "2018-01-03  2484.63  2493.40  2481.91  2486.35  331094681  6019622040484   \n",
      "\n",
      "코스피                   상장시가총액  \n",
      "날짜                            \n",
      "2018-01-02  1613508196692261  \n",
      "2018-01-03  1617634317727445  \n"
     ]
    }
   ],
   "source": [
    "kospi_index = stock.get_index_ohlcv(\"20180101\", \"20230628\", \"1001\")\n",
    "print(kospi_index.head(2))"
   ]
  },
  {
   "cell_type": "code",
   "execution_count": 11,
   "id": "a7580758",
   "metadata": {},
   "outputs": [],
   "source": [
    "kospi_index.to_csv('kospi_index.csv')"
   ]
  },
  {
   "cell_type": "code",
   "execution_count": 10,
   "id": "aceb169f",
   "metadata": {},
   "outputs": [
    {
     "name": "stdout",
     "output_type": "stream",
     "text": [
      "                 종가   등락률    PER  선행PER   PBR  배당수익률\n",
      "날짜                                                  \n",
      "2018-01-02  2479.65  0.49  13.06    0.0  1.12   1.35\n",
      "2018-01-03  2486.35  0.27  13.09    0.0  1.12   1.35\n",
      "2018-01-04  2466.46 -0.80  12.99    0.0  1.11   1.36\n",
      "2018-01-05  2497.52  1.26  13.15    0.0  1.12   1.34\n",
      "2018-01-08  2513.28  0.63  13.23    0.0  1.13   1.34\n"
     ]
    }
   ],
   "source": [
    "kospi_price_change = df = stock.get_index_fundamental(\"20180101\", \"20230628\", \"1001\")\n",
    "print(df.head())"
   ]
  },
  {
   "cell_type": "code",
   "execution_count": 11,
   "id": "24d47fbd",
   "metadata": {},
   "outputs": [],
   "source": [
    "kospi_price_change.to_csv('kospi_price_change.csv')"
   ]
  },
  {
   "cell_type": "code",
   "execution_count": 17,
   "id": "c70300dd",
   "metadata": {},
   "outputs": [
    {
     "name": "stdout",
     "output_type": "stream",
     "text": [
      "코스피              시가       고가       저가       종가        거래량           거래대금  \\\n",
      "날짜                                                                         \n",
      "2018-01-02  2474.86  2481.02  2465.94  2479.65  262205431  4786386686165   \n",
      "2018-01-03  2484.63  2493.40  2481.91  2486.35  331094681  6019622040484   \n",
      "\n",
      "코스피                   상장시가총액  \n",
      "날짜                            \n",
      "2018-01-02  1613508196692261  \n",
      "2018-01-03  1617634317727445  \n"
     ]
    }
   ],
   "source": [
    "kosdaq_index = stock.get_index_ohlcv(\"20180101\", \"20230628\", \"2001\")\n",
    "print(kospi_index.head(2))"
   ]
  },
  {
   "cell_type": "code",
   "execution_count": 18,
   "id": "7df4d146",
   "metadata": {},
   "outputs": [],
   "source": [
    "kosdaq_index.to_csv('kosdaq_index.csv')"
   ]
  },
  {
   "cell_type": "code",
   "execution_count": 12,
   "id": "dd37085b",
   "metadata": {},
   "outputs": [
    {
     "name": "stdout",
     "output_type": "stream",
     "text": [
      "                종가   등락률        PER  선행PER   PBR  배당수익률\n",
      "날짜                                                     \n",
      "2018-01-02  812.45  1.76  34.279999    0.0  2.37   0.45\n",
      "2018-01-03  822.31  1.21  34.700001    0.0  2.40   0.45\n",
      "2018-01-04  808.01 -1.74  34.099998    0.0  2.35   0.46\n",
      "2018-01-05  828.03  2.48  34.959999    0.0  2.41   0.45\n",
      "2018-01-08  839.51  1.39  35.450001    0.0  2.45   0.44\n"
     ]
    }
   ],
   "source": [
    "kosdaq_price_change = df = stock.get_index_fundamental(\"20180101\", \"20230628\", \"2001\")\n",
    "print(df.head())"
   ]
  },
  {
   "cell_type": "code",
   "execution_count": 13,
   "id": "b020192a",
   "metadata": {},
   "outputs": [],
   "source": [
    "kosdaq_price_change.to_csv('kosdaq_price_change.csv')"
   ]
  },
  {
   "cell_type": "code",
   "execution_count": null,
   "id": "dea22967",
   "metadata": {},
   "outputs": [],
   "source": []
  }
 ],
 "metadata": {
  "kernelspec": {
   "display_name": "Python 3 (ipykernel)",
   "language": "python",
   "name": "python3"
  },
  "language_info": {
   "codemirror_mode": {
    "name": "ipython",
    "version": 3
   },
   "file_extension": ".py",
   "mimetype": "text/x-python",
   "name": "python",
   "nbconvert_exporter": "python",
   "pygments_lexer": "ipython3",
   "version": "3.9.13"
  }
 },
 "nbformat": 4,
 "nbformat_minor": 5
}
